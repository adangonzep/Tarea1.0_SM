{
 "cells": [
  {
   "cell_type": "markdown",
   "metadata": {},
   "source": [
    "# Presentacion personal\n",
    "\n",
    "- Mi nombre es Gustavo Adan Gonzalez Zepeda, naci el 01 de septiembre de 1994 en Guadajalara Jalisco Mexico. Creci toda mi vida en Guadalajara. Tengo una hermana 2 años mas grande que yo llamada Luz Alejandra Gonzalez Zepeda, actualmente vive en los Angeles California. Mis padres estan separados desdeque yo tenia 4 años y actualmente vivo con mi madre. Toda la primaria, secundaria y preparatoria estuve en colegios catolicos. En la actualidad estudio en el iteso ingenieria civil en 13 semestre, aun no he logrado concluir mis estudios ya que me atrace 2 años ya que me fui de intercambio a **_\"La Ciudad de la Furia\", Buenos Aire, Argentina._** Posterior a mi intercambio decidi vivir 2 años en Vancouver, Canada. Me gusta viajar y marcar la vida de las personas a lo largo de mi camino :) "
   ]
  }
 ],
 "metadata": {
  "kernelspec": {
   "display_name": "Python 3",
   "language": "python",
   "name": "python3"
  },
  "language_info": {
   "codemirror_mode": {
    "name": "ipython",
    "version": 3
   },
   "file_extension": ".py",
   "mimetype": "text/x-python",
   "name": "python",
   "nbconvert_exporter": "python",
   "pygments_lexer": "ipython3",
   "version": "3.7.3"
  }
 },
 "nbformat": 4,
 "nbformat_minor": 2
}
