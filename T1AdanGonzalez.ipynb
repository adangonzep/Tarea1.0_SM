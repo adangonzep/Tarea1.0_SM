{
 "cells": [
  {
   "cell_type": "markdown",
   "metadata": {},
   "source": [
    "# Tarea 1 \n",
    "\n",
    "## Presentacion personal\n",
    "\n",
    "- Mi nombre es Gustavo Adan Gonzalez Zepeda, naci el 01 de septiembre de 1994 en Guadajalara Jalisco Mexico. Creci toda mi vida en Guadalajara. Tengo una hermana 2 años mas grande que yo llamada Luz Alejandra Gonzalez Zepeda, actualmente vive en los Angeles California. Mis padres estan separados desdeque yo tenia 4 años y actualmente vivo con mi madre. Toda la primaria, secundaria y preparatoria estuve en colegios catolicos. En la actualidad estudio en el iteso ingenieria civil en 13 semestre, aun no he logrado concluir mis estudios ya que me atrace 2 años ya que me fui de intercambio a **_\"La Ciudad de la Furia\", Buenos Aire, Argentina._** Posterior a mi intercambio decidi vivir 2 años en Vancouver, Canada. Me gusta viajar y marcar la vida de las personas a lo largo de mi camino :) "
   ]
  },
  {
   "cell_type": "markdown",
   "metadata": {},
   "source": [
    "## Resumen de articulos\n",
    "\n",
    "#### Porque el entrenamiento en Python vale la pena?\n",
    "\n",
    "Este articulos nos menciona lo valioso que es Python, ya que nos explica como Python ha sido un pilar de codificacion durante casi 3 decadas. Es muy simple de utilizar y muchos sistemas operativos cuentan con Python preinstalado. \n",
    "En la actualidad Python puede ser la mejor herramienta para empresas que buscan mejorar su presencia en la web o dominar nuevas técnicas de codificación. A las personasque no estan acostumbradas a trabajar en estelenguaje puede parecerles muy dificil o complejo, pero simplemente es porque no tienen idea del beneficio a tan baja inversion de conocimientos. \n",
    "\n",
    "\n",
    "#### Python el lenguaje de programación de más rápido crecimiento en el mundo.\n",
    "\n",
    "Python es el lenguaje de programación de más rápido crecimiento en el mundo, ya que se usa cada vez más en una amplia gama de puestos de trabajo de desarrollador y puestos de ciencia de datos en todas las industrias. \n",
    "Se podria decir que Python es el lenguaje de programacion mas dinamico y rapido que existe.\n",
    "Python tiene una tasa de crecimiento en todas las industrias, incluida la academia, fabricación, electrónica, finanzas, energía, tecnología y gobierno. Y sigue creciendo y encontrando nuevos usos en diferentes industrias. \n",
    "\n",
    "Hay tres razones por las que Python está dominando el espacio de programación.\n",
    "\n",
    "___1 Facilidad de aprendizaje___\n",
    "\n",
    "___2 La explosión de la IA, el aprendizaje automático y la ciencia de la información en la empresa.___\n",
    "\n",
    "___3 Una gran comunidad de desarrolladores.___\n",
    "\n",
    "\n"
   ]
  }
 ],
 "metadata": {
  "kernelspec": {
   "display_name": "Python 3",
   "language": "python",
   "name": "python3"
  },
  "language_info": {
   "codemirror_mode": {
    "name": "ipython",
    "version": 3
   },
   "file_extension": ".py",
   "mimetype": "text/x-python",
   "name": "python",
   "nbconvert_exporter": "python",
   "pygments_lexer": "ipython3",
   "version": "3.7.3"
  }
 },
 "nbformat": 4,
 "nbformat_minor": 2
}
